{
 "cells": [
  {
   "metadata": {},
   "cell_type": "markdown",
   "source": "### Importing packages",
   "id": "8fa6fa30d623df50"
  },
  {
   "metadata": {
    "ExecuteTime": {
     "end_time": "2024-10-14T18:16:48.307721Z",
     "start_time": "2024-10-14T18:16:48.302627Z"
    }
   },
   "cell_type": "code",
   "source": [
    "import numpy as np\n",
    "import pandas as pd\n",
    "import matplotlib.pyplot as plt\n",
    "import math\n",
    "import seaborn as sns\n",
    "\n",
    "\n",
    "from datetime import datetime\n",
    "\n",
    "from IPython.core.pylabtools import figsize\n",
    "from dateutil.relativedelta import relativedelta\n",
    "from fontTools.subset.svg import xpath"
   ],
   "id": "fbc121e30a2defb3",
   "outputs": [],
   "execution_count": 1
  },
  {
   "metadata": {},
   "cell_type": "markdown",
   "source": "### Defining some parameters",
   "id": "a0b50f53c15d4b0e"
  },
  {
   "metadata": {
    "ExecuteTime": {
     "end_time": "2024-10-14T18:16:48.372905Z",
     "start_time": "2024-10-14T18:16:48.367625Z"
    }
   },
   "cell_type": "code",
   "source": [
    "PATH = \"stock-samples/MAPNA.csv\"\n",
    "USELESS_COLUMN_NAMES = [\"<TICKER>\", \"<FIRST>\", \"<HIGH>\", \"<LOW>\", \"<VALUE>\", \"<VOL>\", \"<OPENINT>\", \"<PER>\", \"<OPEN>\",\n",
    "                        \"<LAST>\"]\n",
    "DATE_COLUMN_NAME = \"<DTYYYYMMDD>\"\n",
    "CLOSE_COLUMN_NAME = \"<CLOSE>\"\n",
    "DATA_MAX_AGE = 5  # keep datas that are at most from 5 years ago\n",
    "MOVING_AVERAGE_PAIRS = [(4, 8), (3, 5), (10, 20), (10, 30)]"
   ],
   "id": "d8b688e31644ea8b",
   "outputs": [],
   "execution_count": 2
  },
  {
   "metadata": {},
   "cell_type": "markdown",
   "source": "### Reading sample data",
   "id": "98cff4c10d3e7aba"
  },
  {
   "metadata": {
    "ExecuteTime": {
     "end_time": "2024-10-14T18:16:48.401194Z",
     "start_time": "2024-10-14T18:16:48.372905Z"
    }
   },
   "cell_type": "code",
   "source": [
    "df = pd.read_csv(PATH, index_col=None)\n",
    "df"
   ],
   "id": "9181d5c73473435f",
   "outputs": [
    {
     "data": {
      "text/plain": [
       "     <TICKER>  <DTYYYYMMDD>  <FIRST>   <HIGH>    <LOW>  <CLOSE>       <VALUE>  \\\n",
       "0       MAPNA      20241014  11020.0  11190.0  10870.0  11070.0   48271904560   \n",
       "1       MAPNA      20241013  11290.0  11560.0  11130.0  11200.0  175534736600   \n",
       "2       MAPNA      20241012  11470.0  11630.0  11470.0  11470.0  760995635740   \n",
       "3       MAPNA      20241009  11740.0  11740.0  11740.0  11820.0   30183246500   \n",
       "4       MAPNA      20241008  11750.0  11750.0  11750.0  11850.0   14253455000   \n",
       "...       ...           ...      ...      ...      ...      ...           ...   \n",
       "3426    MAPNA      20070902   1457.0   1457.0   1457.0   1457.0    4749522772   \n",
       "3427    MAPNA      20070901   1420.0   1431.0   1407.0   1429.0   26814720068   \n",
       "3428    MAPNA      20070828   1406.0   1406.0   1370.0   1403.0  144131253978   \n",
       "3429    MAPNA      20070827   1379.0   1379.0   1379.0   1379.0   19347625115   \n",
       "3430    MAPNA      20070826   1350.0   1359.0   1350.0   1352.0  591427151280   \n",
       "\n",
       "          <VOL>  <OPENINT> <PER>   <OPEN>   <LAST>  \n",
       "0       4432100        284     D  11200.0  10870.0  \n",
       "1      15671221       1068     D  11470.0  11130.0  \n",
       "2      66344622       2136     D  11820.0  11470.0  \n",
       "3       2570975         81     D  11850.0  11740.0  \n",
       "4       1213060         62     D  11860.0  11750.0  \n",
       "...         ...        ...   ...      ...      ...  \n",
       "3426    3259796        241     D   1429.0   1457.0  \n",
       "3427   18758591       1468     D   1403.0   1429.0  \n",
       "3428  102663438       7137     D   1379.0   1403.0  \n",
       "3429   14030185       1887     D   1352.0   1379.0  \n",
       "3430  437402390      10429     D   1350.0   1352.0  \n",
       "\n",
       "[3431 rows x 12 columns]"
      ],
      "text/html": [
       "<div>\n",
       "<style scoped>\n",
       "    .dataframe tbody tr th:only-of-type {\n",
       "        vertical-align: middle;\n",
       "    }\n",
       "\n",
       "    .dataframe tbody tr th {\n",
       "        vertical-align: top;\n",
       "    }\n",
       "\n",
       "    .dataframe thead th {\n",
       "        text-align: right;\n",
       "    }\n",
       "</style>\n",
       "<table border=\"1\" class=\"dataframe\">\n",
       "  <thead>\n",
       "    <tr style=\"text-align: right;\">\n",
       "      <th></th>\n",
       "      <th>&lt;TICKER&gt;</th>\n",
       "      <th>&lt;DTYYYYMMDD&gt;</th>\n",
       "      <th>&lt;FIRST&gt;</th>\n",
       "      <th>&lt;HIGH&gt;</th>\n",
       "      <th>&lt;LOW&gt;</th>\n",
       "      <th>&lt;CLOSE&gt;</th>\n",
       "      <th>&lt;VALUE&gt;</th>\n",
       "      <th>&lt;VOL&gt;</th>\n",
       "      <th>&lt;OPENINT&gt;</th>\n",
       "      <th>&lt;PER&gt;</th>\n",
       "      <th>&lt;OPEN&gt;</th>\n",
       "      <th>&lt;LAST&gt;</th>\n",
       "    </tr>\n",
       "  </thead>\n",
       "  <tbody>\n",
       "    <tr>\n",
       "      <th>0</th>\n",
       "      <td>MAPNA</td>\n",
       "      <td>20241014</td>\n",
       "      <td>11020.0</td>\n",
       "      <td>11190.0</td>\n",
       "      <td>10870.0</td>\n",
       "      <td>11070.0</td>\n",
       "      <td>48271904560</td>\n",
       "      <td>4432100</td>\n",
       "      <td>284</td>\n",
       "      <td>D</td>\n",
       "      <td>11200.0</td>\n",
       "      <td>10870.0</td>\n",
       "    </tr>\n",
       "    <tr>\n",
       "      <th>1</th>\n",
       "      <td>MAPNA</td>\n",
       "      <td>20241013</td>\n",
       "      <td>11290.0</td>\n",
       "      <td>11560.0</td>\n",
       "      <td>11130.0</td>\n",
       "      <td>11200.0</td>\n",
       "      <td>175534736600</td>\n",
       "      <td>15671221</td>\n",
       "      <td>1068</td>\n",
       "      <td>D</td>\n",
       "      <td>11470.0</td>\n",
       "      <td>11130.0</td>\n",
       "    </tr>\n",
       "    <tr>\n",
       "      <th>2</th>\n",
       "      <td>MAPNA</td>\n",
       "      <td>20241012</td>\n",
       "      <td>11470.0</td>\n",
       "      <td>11630.0</td>\n",
       "      <td>11470.0</td>\n",
       "      <td>11470.0</td>\n",
       "      <td>760995635740</td>\n",
       "      <td>66344622</td>\n",
       "      <td>2136</td>\n",
       "      <td>D</td>\n",
       "      <td>11820.0</td>\n",
       "      <td>11470.0</td>\n",
       "    </tr>\n",
       "    <tr>\n",
       "      <th>3</th>\n",
       "      <td>MAPNA</td>\n",
       "      <td>20241009</td>\n",
       "      <td>11740.0</td>\n",
       "      <td>11740.0</td>\n",
       "      <td>11740.0</td>\n",
       "      <td>11820.0</td>\n",
       "      <td>30183246500</td>\n",
       "      <td>2570975</td>\n",
       "      <td>81</td>\n",
       "      <td>D</td>\n",
       "      <td>11850.0</td>\n",
       "      <td>11740.0</td>\n",
       "    </tr>\n",
       "    <tr>\n",
       "      <th>4</th>\n",
       "      <td>MAPNA</td>\n",
       "      <td>20241008</td>\n",
       "      <td>11750.0</td>\n",
       "      <td>11750.0</td>\n",
       "      <td>11750.0</td>\n",
       "      <td>11850.0</td>\n",
       "      <td>14253455000</td>\n",
       "      <td>1213060</td>\n",
       "      <td>62</td>\n",
       "      <td>D</td>\n",
       "      <td>11860.0</td>\n",
       "      <td>11750.0</td>\n",
       "    </tr>\n",
       "    <tr>\n",
       "      <th>...</th>\n",
       "      <td>...</td>\n",
       "      <td>...</td>\n",
       "      <td>...</td>\n",
       "      <td>...</td>\n",
       "      <td>...</td>\n",
       "      <td>...</td>\n",
       "      <td>...</td>\n",
       "      <td>...</td>\n",
       "      <td>...</td>\n",
       "      <td>...</td>\n",
       "      <td>...</td>\n",
       "      <td>...</td>\n",
       "    </tr>\n",
       "    <tr>\n",
       "      <th>3426</th>\n",
       "      <td>MAPNA</td>\n",
       "      <td>20070902</td>\n",
       "      <td>1457.0</td>\n",
       "      <td>1457.0</td>\n",
       "      <td>1457.0</td>\n",
       "      <td>1457.0</td>\n",
       "      <td>4749522772</td>\n",
       "      <td>3259796</td>\n",
       "      <td>241</td>\n",
       "      <td>D</td>\n",
       "      <td>1429.0</td>\n",
       "      <td>1457.0</td>\n",
       "    </tr>\n",
       "    <tr>\n",
       "      <th>3427</th>\n",
       "      <td>MAPNA</td>\n",
       "      <td>20070901</td>\n",
       "      <td>1420.0</td>\n",
       "      <td>1431.0</td>\n",
       "      <td>1407.0</td>\n",
       "      <td>1429.0</td>\n",
       "      <td>26814720068</td>\n",
       "      <td>18758591</td>\n",
       "      <td>1468</td>\n",
       "      <td>D</td>\n",
       "      <td>1403.0</td>\n",
       "      <td>1429.0</td>\n",
       "    </tr>\n",
       "    <tr>\n",
       "      <th>3428</th>\n",
       "      <td>MAPNA</td>\n",
       "      <td>20070828</td>\n",
       "      <td>1406.0</td>\n",
       "      <td>1406.0</td>\n",
       "      <td>1370.0</td>\n",
       "      <td>1403.0</td>\n",
       "      <td>144131253978</td>\n",
       "      <td>102663438</td>\n",
       "      <td>7137</td>\n",
       "      <td>D</td>\n",
       "      <td>1379.0</td>\n",
       "      <td>1403.0</td>\n",
       "    </tr>\n",
       "    <tr>\n",
       "      <th>3429</th>\n",
       "      <td>MAPNA</td>\n",
       "      <td>20070827</td>\n",
       "      <td>1379.0</td>\n",
       "      <td>1379.0</td>\n",
       "      <td>1379.0</td>\n",
       "      <td>1379.0</td>\n",
       "      <td>19347625115</td>\n",
       "      <td>14030185</td>\n",
       "      <td>1887</td>\n",
       "      <td>D</td>\n",
       "      <td>1352.0</td>\n",
       "      <td>1379.0</td>\n",
       "    </tr>\n",
       "    <tr>\n",
       "      <th>3430</th>\n",
       "      <td>MAPNA</td>\n",
       "      <td>20070826</td>\n",
       "      <td>1350.0</td>\n",
       "      <td>1359.0</td>\n",
       "      <td>1350.0</td>\n",
       "      <td>1352.0</td>\n",
       "      <td>591427151280</td>\n",
       "      <td>437402390</td>\n",
       "      <td>10429</td>\n",
       "      <td>D</td>\n",
       "      <td>1350.0</td>\n",
       "      <td>1352.0</td>\n",
       "    </tr>\n",
       "  </tbody>\n",
       "</table>\n",
       "<p>3431 rows × 12 columns</p>\n",
       "</div>"
      ]
     },
     "execution_count": 3,
     "metadata": {},
     "output_type": "execute_result"
    }
   ],
   "execution_count": 3
  },
  {
   "metadata": {},
   "cell_type": "markdown",
   "source": [
    "### Cleaning data\n",
    "Here we only keep <CLOSE> and <DTYYYYMMDD> columns. Because we are only going to work with those columns.  "
   ],
   "id": "57d5df5557ec527d"
  },
  {
   "metadata": {
    "ExecuteTime": {
     "end_time": "2024-10-14T18:16:48.521249Z",
     "start_time": "2024-10-14T18:16:48.511911Z"
    }
   },
   "cell_type": "code",
   "source": [
    "df.drop(USELESS_COLUMN_NAMES, axis=1, inplace=True)\n",
    "df"
   ],
   "id": "4903a23e4fed2cc8",
   "outputs": [
    {
     "data": {
      "text/plain": [
       "      <DTYYYYMMDD>  <CLOSE>\n",
       "0         20241014  11070.0\n",
       "1         20241013  11200.0\n",
       "2         20241012  11470.0\n",
       "3         20241009  11820.0\n",
       "4         20241008  11850.0\n",
       "...            ...      ...\n",
       "3426      20070902   1457.0\n",
       "3427      20070901   1429.0\n",
       "3428      20070828   1403.0\n",
       "3429      20070827   1379.0\n",
       "3430      20070826   1352.0\n",
       "\n",
       "[3431 rows x 2 columns]"
      ],
      "text/html": [
       "<div>\n",
       "<style scoped>\n",
       "    .dataframe tbody tr th:only-of-type {\n",
       "        vertical-align: middle;\n",
       "    }\n",
       "\n",
       "    .dataframe tbody tr th {\n",
       "        vertical-align: top;\n",
       "    }\n",
       "\n",
       "    .dataframe thead th {\n",
       "        text-align: right;\n",
       "    }\n",
       "</style>\n",
       "<table border=\"1\" class=\"dataframe\">\n",
       "  <thead>\n",
       "    <tr style=\"text-align: right;\">\n",
       "      <th></th>\n",
       "      <th>&lt;DTYYYYMMDD&gt;</th>\n",
       "      <th>&lt;CLOSE&gt;</th>\n",
       "    </tr>\n",
       "  </thead>\n",
       "  <tbody>\n",
       "    <tr>\n",
       "      <th>0</th>\n",
       "      <td>20241014</td>\n",
       "      <td>11070.0</td>\n",
       "    </tr>\n",
       "    <tr>\n",
       "      <th>1</th>\n",
       "      <td>20241013</td>\n",
       "      <td>11200.0</td>\n",
       "    </tr>\n",
       "    <tr>\n",
       "      <th>2</th>\n",
       "      <td>20241012</td>\n",
       "      <td>11470.0</td>\n",
       "    </tr>\n",
       "    <tr>\n",
       "      <th>3</th>\n",
       "      <td>20241009</td>\n",
       "      <td>11820.0</td>\n",
       "    </tr>\n",
       "    <tr>\n",
       "      <th>4</th>\n",
       "      <td>20241008</td>\n",
       "      <td>11850.0</td>\n",
       "    </tr>\n",
       "    <tr>\n",
       "      <th>...</th>\n",
       "      <td>...</td>\n",
       "      <td>...</td>\n",
       "    </tr>\n",
       "    <tr>\n",
       "      <th>3426</th>\n",
       "      <td>20070902</td>\n",
       "      <td>1457.0</td>\n",
       "    </tr>\n",
       "    <tr>\n",
       "      <th>3427</th>\n",
       "      <td>20070901</td>\n",
       "      <td>1429.0</td>\n",
       "    </tr>\n",
       "    <tr>\n",
       "      <th>3428</th>\n",
       "      <td>20070828</td>\n",
       "      <td>1403.0</td>\n",
       "    </tr>\n",
       "    <tr>\n",
       "      <th>3429</th>\n",
       "      <td>20070827</td>\n",
       "      <td>1379.0</td>\n",
       "    </tr>\n",
       "    <tr>\n",
       "      <th>3430</th>\n",
       "      <td>20070826</td>\n",
       "      <td>1352.0</td>\n",
       "    </tr>\n",
       "  </tbody>\n",
       "</table>\n",
       "<p>3431 rows × 2 columns</p>\n",
       "</div>"
      ]
     },
     "execution_count": 4,
     "metadata": {},
     "output_type": "execute_result"
    }
   ],
   "execution_count": 4
  },
  {
   "metadata": {},
   "cell_type": "markdown",
   "source": "Converting date column (DTYYYYMMDD) to date column ",
   "id": "aa0edc9ce574a271"
  },
  {
   "metadata": {
    "ExecuteTime": {
     "end_time": "2024-10-14T18:16:48.588719Z",
     "start_time": "2024-10-14T18:16:48.577009Z"
    }
   },
   "cell_type": "code",
   "source": [
    "df['date'] = pd.to_datetime(df[DATE_COLUMN_NAME], format='%Y%m%d', errors='coerce')\n",
    "df.drop(DATE_COLUMN_NAME, axis=1, inplace=True)\n",
    "\n",
    "df.rename(columns={CLOSE_COLUMN_NAME: 'price'}, inplace=True)  # only renaming a column in order to be comfortable with\n",
    "df"
   ],
   "id": "a35c6c8420efe331",
   "outputs": [
    {
     "data": {
      "text/plain": [
       "        price       date\n",
       "0     11070.0 2024-10-14\n",
       "1     11200.0 2024-10-13\n",
       "2     11470.0 2024-10-12\n",
       "3     11820.0 2024-10-09\n",
       "4     11850.0 2024-10-08\n",
       "...       ...        ...\n",
       "3426   1457.0 2007-09-02\n",
       "3427   1429.0 2007-09-01\n",
       "3428   1403.0 2007-08-28\n",
       "3429   1379.0 2007-08-27\n",
       "3430   1352.0 2007-08-26\n",
       "\n",
       "[3431 rows x 2 columns]"
      ],
      "text/html": [
       "<div>\n",
       "<style scoped>\n",
       "    .dataframe tbody tr th:only-of-type {\n",
       "        vertical-align: middle;\n",
       "    }\n",
       "\n",
       "    .dataframe tbody tr th {\n",
       "        vertical-align: top;\n",
       "    }\n",
       "\n",
       "    .dataframe thead th {\n",
       "        text-align: right;\n",
       "    }\n",
       "</style>\n",
       "<table border=\"1\" class=\"dataframe\">\n",
       "  <thead>\n",
       "    <tr style=\"text-align: right;\">\n",
       "      <th></th>\n",
       "      <th>price</th>\n",
       "      <th>date</th>\n",
       "    </tr>\n",
       "  </thead>\n",
       "  <tbody>\n",
       "    <tr>\n",
       "      <th>0</th>\n",
       "      <td>11070.0</td>\n",
       "      <td>2024-10-14</td>\n",
       "    </tr>\n",
       "    <tr>\n",
       "      <th>1</th>\n",
       "      <td>11200.0</td>\n",
       "      <td>2024-10-13</td>\n",
       "    </tr>\n",
       "    <tr>\n",
       "      <th>2</th>\n",
       "      <td>11470.0</td>\n",
       "      <td>2024-10-12</td>\n",
       "    </tr>\n",
       "    <tr>\n",
       "      <th>3</th>\n",
       "      <td>11820.0</td>\n",
       "      <td>2024-10-09</td>\n",
       "    </tr>\n",
       "    <tr>\n",
       "      <th>4</th>\n",
       "      <td>11850.0</td>\n",
       "      <td>2024-10-08</td>\n",
       "    </tr>\n",
       "    <tr>\n",
       "      <th>...</th>\n",
       "      <td>...</td>\n",
       "      <td>...</td>\n",
       "    </tr>\n",
       "    <tr>\n",
       "      <th>3426</th>\n",
       "      <td>1457.0</td>\n",
       "      <td>2007-09-02</td>\n",
       "    </tr>\n",
       "    <tr>\n",
       "      <th>3427</th>\n",
       "      <td>1429.0</td>\n",
       "      <td>2007-09-01</td>\n",
       "    </tr>\n",
       "    <tr>\n",
       "      <th>3428</th>\n",
       "      <td>1403.0</td>\n",
       "      <td>2007-08-28</td>\n",
       "    </tr>\n",
       "    <tr>\n",
       "      <th>3429</th>\n",
       "      <td>1379.0</td>\n",
       "      <td>2007-08-27</td>\n",
       "    </tr>\n",
       "    <tr>\n",
       "      <th>3430</th>\n",
       "      <td>1352.0</td>\n",
       "      <td>2007-08-26</td>\n",
       "    </tr>\n",
       "  </tbody>\n",
       "</table>\n",
       "<p>3431 rows × 2 columns</p>\n",
       "</div>"
      ]
     },
     "execution_count": 5,
     "metadata": {},
     "output_type": "execute_result"
    }
   ],
   "execution_count": 5
  },
  {
   "metadata": {},
   "cell_type": "markdown",
   "source": "Now as we were told to just keep last five years data,so we remove data that are from before past five years",
   "id": "78617b850d539a4d"
  },
  {
   "metadata": {
    "ExecuteTime": {
     "end_time": "2024-10-14T18:21:51.616258Z",
     "start_time": "2024-10-14T18:21:51.602812Z"
    }
   },
   "cell_type": "code",
   "source": [
    "curr_date = datetime.now().date()\n",
    "oldest_date = curr_date - relativedelta(years=5)\n",
    "oldest_date_dt64 = np.datetime64(oldest_date)\n",
    "\n",
    "df = df[df['date'] > oldest_date_dt64]\n",
    "df"
   ],
   "id": "3d4bfa176908577b",
   "outputs": [
    {
     "data": {
      "text/plain": [
       "        price       date\n",
       "1096   8499.0 2019-10-15\n",
       "1095   8672.0 2019-10-16\n",
       "1094   8297.0 2019-10-20\n",
       "1093   8336.0 2019-10-21\n",
       "1092   8649.0 2019-10-22\n",
       "...       ...        ...\n",
       "4     11850.0 2024-10-08\n",
       "3     11820.0 2024-10-09\n",
       "2     11470.0 2024-10-12\n",
       "1     11200.0 2024-10-13\n",
       "0     11070.0 2024-10-14\n",
       "\n",
       "[1097 rows x 2 columns]"
      ],
      "text/html": [
       "<div>\n",
       "<style scoped>\n",
       "    .dataframe tbody tr th:only-of-type {\n",
       "        vertical-align: middle;\n",
       "    }\n",
       "\n",
       "    .dataframe tbody tr th {\n",
       "        vertical-align: top;\n",
       "    }\n",
       "\n",
       "    .dataframe thead th {\n",
       "        text-align: right;\n",
       "    }\n",
       "</style>\n",
       "<table border=\"1\" class=\"dataframe\">\n",
       "  <thead>\n",
       "    <tr style=\"text-align: right;\">\n",
       "      <th></th>\n",
       "      <th>price</th>\n",
       "      <th>date</th>\n",
       "    </tr>\n",
       "  </thead>\n",
       "  <tbody>\n",
       "    <tr>\n",
       "      <th>1096</th>\n",
       "      <td>8499.0</td>\n",
       "      <td>2019-10-15</td>\n",
       "    </tr>\n",
       "    <tr>\n",
       "      <th>1095</th>\n",
       "      <td>8672.0</td>\n",
       "      <td>2019-10-16</td>\n",
       "    </tr>\n",
       "    <tr>\n",
       "      <th>1094</th>\n",
       "      <td>8297.0</td>\n",
       "      <td>2019-10-20</td>\n",
       "    </tr>\n",
       "    <tr>\n",
       "      <th>1093</th>\n",
       "      <td>8336.0</td>\n",
       "      <td>2019-10-21</td>\n",
       "    </tr>\n",
       "    <tr>\n",
       "      <th>1092</th>\n",
       "      <td>8649.0</td>\n",
       "      <td>2019-10-22</td>\n",
       "    </tr>\n",
       "    <tr>\n",
       "      <th>...</th>\n",
       "      <td>...</td>\n",
       "      <td>...</td>\n",
       "    </tr>\n",
       "    <tr>\n",
       "      <th>4</th>\n",
       "      <td>11850.0</td>\n",
       "      <td>2024-10-08</td>\n",
       "    </tr>\n",
       "    <tr>\n",
       "      <th>3</th>\n",
       "      <td>11820.0</td>\n",
       "      <td>2024-10-09</td>\n",
       "    </tr>\n",
       "    <tr>\n",
       "      <th>2</th>\n",
       "      <td>11470.0</td>\n",
       "      <td>2024-10-12</td>\n",
       "    </tr>\n",
       "    <tr>\n",
       "      <th>1</th>\n",
       "      <td>11200.0</td>\n",
       "      <td>2024-10-13</td>\n",
       "    </tr>\n",
       "    <tr>\n",
       "      <th>0</th>\n",
       "      <td>11070.0</td>\n",
       "      <td>2024-10-14</td>\n",
       "    </tr>\n",
       "  </tbody>\n",
       "</table>\n",
       "<p>1097 rows × 2 columns</p>\n",
       "</div>"
      ]
     },
     "execution_count": 12,
     "metadata": {},
     "output_type": "execute_result"
    }
   ],
   "execution_count": 12
  },
  {
   "metadata": {},
   "cell_type": "markdown",
   "source": "Sorting dataframe by dates ascending",
   "id": "1b7e680bac84155d"
  },
  {
   "metadata": {
    "ExecuteTime": {
     "end_time": "2024-10-14T18:23:09.083515Z",
     "start_time": "2024-10-14T18:23:09.061144Z"
    }
   },
   "cell_type": "code",
   "source": [
    "df.sort_values(by='date', ascending=True, inplace=True, ignore_index=True)\n",
    "df"
   ],
   "id": "fab8a7db2af6692e",
   "outputs": [
    {
     "data": {
      "text/plain": [
       "        price       date\n",
       "0      8499.0 2019-10-15\n",
       "1      8672.0 2019-10-16\n",
       "2      8297.0 2019-10-20\n",
       "3      8336.0 2019-10-21\n",
       "4      8649.0 2019-10-22\n",
       "...       ...        ...\n",
       "1092  11850.0 2024-10-08\n",
       "1093  11820.0 2024-10-09\n",
       "1094  11470.0 2024-10-12\n",
       "1095  11200.0 2024-10-13\n",
       "1096  11070.0 2024-10-14\n",
       "\n",
       "[1097 rows x 2 columns]"
      ],
      "text/html": [
       "<div>\n",
       "<style scoped>\n",
       "    .dataframe tbody tr th:only-of-type {\n",
       "        vertical-align: middle;\n",
       "    }\n",
       "\n",
       "    .dataframe tbody tr th {\n",
       "        vertical-align: top;\n",
       "    }\n",
       "\n",
       "    .dataframe thead th {\n",
       "        text-align: right;\n",
       "    }\n",
       "</style>\n",
       "<table border=\"1\" class=\"dataframe\">\n",
       "  <thead>\n",
       "    <tr style=\"text-align: right;\">\n",
       "      <th></th>\n",
       "      <th>price</th>\n",
       "      <th>date</th>\n",
       "    </tr>\n",
       "  </thead>\n",
       "  <tbody>\n",
       "    <tr>\n",
       "      <th>0</th>\n",
       "      <td>8499.0</td>\n",
       "      <td>2019-10-15</td>\n",
       "    </tr>\n",
       "    <tr>\n",
       "      <th>1</th>\n",
       "      <td>8672.0</td>\n",
       "      <td>2019-10-16</td>\n",
       "    </tr>\n",
       "    <tr>\n",
       "      <th>2</th>\n",
       "      <td>8297.0</td>\n",
       "      <td>2019-10-20</td>\n",
       "    </tr>\n",
       "    <tr>\n",
       "      <th>3</th>\n",
       "      <td>8336.0</td>\n",
       "      <td>2019-10-21</td>\n",
       "    </tr>\n",
       "    <tr>\n",
       "      <th>4</th>\n",
       "      <td>8649.0</td>\n",
       "      <td>2019-10-22</td>\n",
       "    </tr>\n",
       "    <tr>\n",
       "      <th>...</th>\n",
       "      <td>...</td>\n",
       "      <td>...</td>\n",
       "    </tr>\n",
       "    <tr>\n",
       "      <th>1092</th>\n",
       "      <td>11850.0</td>\n",
       "      <td>2024-10-08</td>\n",
       "    </tr>\n",
       "    <tr>\n",
       "      <th>1093</th>\n",
       "      <td>11820.0</td>\n",
       "      <td>2024-10-09</td>\n",
       "    </tr>\n",
       "    <tr>\n",
       "      <th>1094</th>\n",
       "      <td>11470.0</td>\n",
       "      <td>2024-10-12</td>\n",
       "    </tr>\n",
       "    <tr>\n",
       "      <th>1095</th>\n",
       "      <td>11200.0</td>\n",
       "      <td>2024-10-13</td>\n",
       "    </tr>\n",
       "    <tr>\n",
       "      <th>1096</th>\n",
       "      <td>11070.0</td>\n",
       "      <td>2024-10-14</td>\n",
       "    </tr>\n",
       "  </tbody>\n",
       "</table>\n",
       "<p>1097 rows × 2 columns</p>\n",
       "</div>"
      ]
     },
     "execution_count": 14,
     "metadata": {},
     "output_type": "execute_result"
    }
   ],
   "execution_count": 14
  },
  {
   "metadata": {
    "ExecuteTime": {
     "end_time": "2024-10-14T19:06:52.633707Z",
     "start_time": "2024-10-14T19:06:52.477527Z"
    }
   },
   "cell_type": "code",
   "source": [
    "df.plot(x='date', y='price', figsize=(10, 5))\n",
    "plt.xticks(rotation='vertical')"
   ],
   "id": "711aae120d075ff2",
   "outputs": [
    {
     "data": {
      "text/plain": [
       "(array([17897., 18262., 18628., 18993., 19358., 19723., 20089.]),\n",
       " [Text(17897.0, 0, '2019'),\n",
       "  Text(18262.0, 0, '2020'),\n",
       "  Text(18628.0, 0, '2021'),\n",
       "  Text(18993.0, 0, '2022'),\n",
       "  Text(19358.0, 0, '2023'),\n",
       "  Text(19723.0, 0, '2024'),\n",
       "  Text(20089.0, 0, '2025')])"
      ]
     },
     "execution_count": 38,
     "metadata": {},
     "output_type": "execute_result"
    },
    {
     "data": {
      "text/plain": [
       "<Figure size 1000x500 with 1 Axes>"
      ],
      "image/png": "[encoded data removed]"
     },
     "metadata": {},
     "output_type": "display_data"
    }
   ],
   "execution_count": 38
  },
  {
   "metadata": {
    "ExecuteTime": {
     "end_time": "2024-10-14T19:33:17.647124Z",
     "start_time": "2024-10-14T19:33:15.969341Z"
    }
   },
   "cell_type": "code",
   "source": "sns.displot(df['price'], kde=True).fig.set_size_inches(9, 4)",
   "id": "d05e875bc63be6f5",
   "outputs": [
    {
     "data": {
      "text/plain": [
       "<Figure size 900x400 with 1 Axes>"
      ],
      "image/png": "[encoded data removed]"
     },
     "metadata": {},
     "output_type": "display_data"
    }
   ],
   "execution_count": 65
  },
  {
   "metadata": {
    "ExecuteTime": {
     "end_time": "2024-10-14T19:37:47.214095Z",
     "start_time": "2024-10-14T19:37:37.830411Z"
    }
   },
   "cell_type": "code",
   "source": "sns.violinplot(x='date', y='price', data=df)",
   "id": "1aeef6c340205aac",
   "outputs": [
    {
     "data": {
      "text/plain": [
       "<Axes: xlabel='date', ylabel='price'>"
      ]
     },
     "execution_count": 70,
     "metadata": {},
     "output_type": "execute_result"
    },
    {
     "data": {
      "text/plain": [
       "<Figure size 640x480 with 1 Axes>"
      ],
      "image/png": "[encoded data removed]"
     },
     "metadata": {},
     "output_type": "display_data"
    }
   ],
   "execution_count": 70
  },
  {
   "metadata": {
    "ExecuteTime": {
     "end_time": "2024-10-14T19:46:34.914011Z",
     "start_time": "2024-10-14T19:46:34.849611Z"
    }
   },
   "cell_type": "code",
   "source": [
    "color = {\n",
    "    \"boxes\": \"DarkGreen\",\n",
    "    \"whiskers\": \"DarkOrange\",\n",
    "    \"medians\": \"DarkBlue\",\n",
    "    \"caps\": \"Gray\",\n",
    "}\n",
    "df.plot.box(color=color, sym=\"r+\", figsize=(3, 5))"
   ],
   "id": "bbd495d5f53b4ee8",
   "outputs": [
    {
     "data": {
      "text/plain": [
       "<Axes: >"
      ]
     },
     "execution_count": 82,
     "metadata": {},
     "output_type": "execute_result"
    },
    {
     "data": {
      "text/plain": [
       "<Figure size 300x500 with 1 Axes>"
      ],
      "image/png": "[encoded data removed]"
     },
     "metadata": {},
     "output_type": "display_data"
    }
   ],
   "execution_count": 82
  },
  {
   "metadata": {},
   "cell_type": "code",
   "outputs": [],
   "execution_count": null,
   "source": "",
   "id": "f50693fb126e3305"
  }
 ],
 "metadata": {
  "kernelspec": {
   "display_name": "Python 3",
   "language": "python",
   "name": "python3"
  },
  "language_info": {
   "codemirror_mode": {
    "name": "ipython",
    "version": 2
   },
   "file_extension": ".py",
   "mimetype": "text/x-python",
   "name": "python",
   "nbconvert_exporter": "python",
   "pygments_lexer": "ipython2",
   "version": "2.7.6"
  }
 },
 "nbformat": 4,
 "nbformat_minor": 5
}
